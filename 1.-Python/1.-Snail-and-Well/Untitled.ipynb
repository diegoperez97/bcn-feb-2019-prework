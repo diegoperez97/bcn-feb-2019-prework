{
 "cells": [
  {
   "cell_type": "markdown",
   "metadata": {},
   "source": [
    "4 - Escribe una función que tome una cadena de palabras en minúsculas y la regrese en mayusculas.\n",
    " \n",
    " Entrada: [“hola”,“como”,“estas”]\n",
    " \n",
    " Salida: [“HOLA”,“COMO”,“ESTAS”]"
   ]
  },
  {
   "cell_type": "code",
   "execution_count": 5,
   "metadata": {},
   "outputs": [
    {
     "name": "stdin",
     "output_type": "stream",
     "text": [
      "Ingresa una cadena de caracteres en minúsculas:  hola\n"
     ]
    },
    {
     "data": {
      "text/plain": [
       "'HOLA'"
      ]
     },
     "execution_count": 5,
     "metadata": {},
     "output_type": "execute_result"
    }
   ],
   "source": [
    "def change_case():\n",
    "    string = str(input(\"Ingresa una cadena de caracteres en minúsculas: \"))\n",
    "    lower_case_string = string.lower()\n",
    "    upper_case_string = lower_case_string.upper()\n",
    "    return upper_case_string\n",
    "change_case()"
   ]
  },
  {
   "cell_type": "markdown",
   "metadata": {},
   "source": [
    "5 - A partir de esta lista [1, 3, 5, 7, 9], multiplicar todos los elementos por 7, y después sólo traer los que son menores a 30."
   ]
  },
  {
   "cell_type": "code",
   "execution_count": 8,
   "metadata": {},
   "outputs": [
    {
     "name": "stdout",
     "output_type": "stream",
     "text": [
      "[7, 21]\n"
     ]
    }
   ],
   "source": [
    "lista = [1, 3, 5, 7, 9]\n",
    "lista_mult_30 = []\n",
    "\n",
    "for i in lista:\n",
    "    x = i*7\n",
    "    if x < 30:\n",
    "        lista_mult_30.append(x)\n",
    "        \n",
    "print(lista_mult)"
   ]
  },
  {
   "cell_type": "code",
   "execution_count": null,
   "metadata": {},
   "outputs": [],
   "source": []
  }
 ],
 "metadata": {
  "kernelspec": {
   "display_name": "Python 3",
   "language": "python",
   "name": "python3"
  },
  "language_info": {
   "codemirror_mode": {
    "name": "ipython",
    "version": 3
   },
   "file_extension": ".py",
   "mimetype": "text/x-python",
   "name": "python",
   "nbconvert_exporter": "python",
   "pygments_lexer": "ipython3",
   "version": "3.8.5"
  }
 },
 "nbformat": 4,
 "nbformat_minor": 4
}
