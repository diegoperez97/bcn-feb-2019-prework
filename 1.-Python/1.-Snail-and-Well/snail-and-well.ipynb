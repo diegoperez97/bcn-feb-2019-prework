{
 "cells": [
  {
   "cell_type": "markdown",
   "metadata": {},
   "source": [
    "<img src=\"https://bit.ly/2VnXWr2\" width=\"100\" align=\"left\">"
   ]
  },
  {
   "cell_type": "markdown",
   "metadata": {},
   "source": [
    "# The Snail and the Well\n",
    "\n",
    "A snail falls at the bottom of a 125 cm well. Each day the snail rises 30 cm. But at night, while sleeping, slides 20 cm because the walls are wet. How many days does it take for the snail to escape the well?\n",
    "\n",
    "**Hint**: The snail gets out of the well when it surpasses the 125cm of height.\n",
    "\n",
    "## Tools\n",
    "\n",
    "1. Loop: **while**\n",
    "2. Conditional statements: **if-else**\n",
    "3. Function: **print()**\n",
    "\n",
    "## Tasks\n",
    "\n",
    "#### 1. Assign the challenge data to variables with representative names: `well_height`, `daily_distance`, `nightly_distance` and `snail_position`."
   ]
  },
  {
   "cell_type": "code",
   "execution_count": 1,
   "metadata": {},
   "outputs": [],
   "source": [
    "well_height = 125 #cm\n",
    "daily_distance = 30 #cm\n",
    "nightly_distance = 20 #cm\n",
    "advance_cm = [30, 21, 33, 77, 44, 45, 23, 45, 12, 34, 55]"
   ]
  },
  {
   "cell_type": "markdown",
   "metadata": {},
   "source": [
    "#### 2. Create a variable `days` to keep count of the days that pass until the snail escapes the well. \n",
    "#### 3. Find the solution to the challenge using the variables defined above. \n",
    "#### 4. Print the solution."
   ]
  },
  {
   "cell_type": "code",
   "execution_count": 2,
   "metadata": {},
   "outputs": [
    {
     "name": "stdout",
     "output_type": "stream",
     "text": [
      "11 days have elapsed.\n"
     ]
    }
   ],
   "source": [
    "days = 0\n",
    "snail_position = 0 #cm\n",
    "\n",
    "while snail_position <= well_height:\n",
    "    days = days + 1\n",
    "    snail_position_day = snail_position + daily_distance\n",
    "    if snail_position_day > well_height:\n",
    "        break\n",
    "    snail_position_night = snail_position_day - nightly_distance\n",
    "    snail_position = snail_position_night\n",
    "    \n",
    "print(days, \"days have elapsed.\")"
   ]
  },
  {
   "cell_type": "markdown",
   "metadata": {},
   "source": [
    "## Bonus\n",
    "The distance traveled by the snail each day is now defined by a list.\n",
    "```\n",
    "advance_cm = [30, 21, 33, 77, 44, 45, 23, 45, 12, 34, 55]\n",
    "```\n",
    "On the first day, the snail rises 30cm but during the night it slides 20cm. On the second day, the snail rises 21cm but during the night it slides 20cm, and so on. \n",
    "\n",
    "#### 1. How many days does it take for the snail to escape the well?\n",
    "Follow the same guidelines as in the previous challenge.\n",
    "\n",
    "**Hint**: Remember that the snail gets out of the well when it surpasses the 125cm of height."
   ]
  },
  {
   "cell_type": "code",
   "execution_count": 3,
   "metadata": {},
   "outputs": [
    {
     "name": "stdout",
     "output_type": "stream",
     "text": [
      "6 days have elapsed.\n"
     ]
    }
   ],
   "source": [
    "days = 0\n",
    "snail_position = 0 #cm\n",
    "\n",
    "for i in advance_cm:\n",
    "    days = days + 1\n",
    "    snail_position_day = snail_position + i\n",
    "    if snail_position_day > well_height:\n",
    "        break\n",
    "    snail_position_night = snail_position_day - nightly_distance\n",
    "    snail_position = snail_position_night\n",
    "\n",
    "print(days, \"days have elapsed.\")"
   ]
  },
  {
   "cell_type": "markdown",
   "metadata": {},
   "source": [
    "#### 2. What is its maximum displacement in one day? And its minimum? Calculate the displacement using only the travel distance of the days used to get out of the well. \n",
    "**Hint**: Remember that displacement means the total distance risen taking into account that the snail slides at night.  "
   ]
  },
  {
   "cell_type": "code",
   "execution_count": 4,
   "metadata": {},
   "outputs": [
    {
     "name": "stdout",
     "output_type": "stream",
     "text": [
      "77 is the maximum displacement in one day.\n"
     ]
    }
   ],
   "source": [
    "max_displacement = max(advance_cm)\n",
    "print(max_displacement, 'is the maximum displacement in one day.')"
   ]
  },
  {
   "cell_type": "markdown",
   "metadata": {},
   "source": [
    "#### 3. What is its average progress? Take into account the snail slides at night."
   ]
  },
  {
   "cell_type": "code",
   "execution_count": 5,
   "metadata": {},
   "outputs": [
    {
     "name": "stdout",
     "output_type": "stream",
     "text": [
      "18.09 is the average daily progress.\n"
     ]
    }
   ],
   "source": [
    "progress = []\n",
    "snail_position = 0\n",
    "\n",
    "for i in advance_cm:\n",
    "    snail_position_day = snail_position + i\n",
    "    if snail_position_day <= well_height:\n",
    "        x = i - nightly_distance\n",
    "        progress.append(x)\n",
    "    \n",
    "average = round((sum(progress) / len(progress)),2)\n",
    "\n",
    "print(average, 'is the average daily progress.')"
   ]
  },
  {
   "cell_type": "markdown",
   "metadata": {},
   "source": [
    "#### 4. What is the standard deviation of its displacement? Take into account the snail slides at night."
   ]
  },
  {
   "cell_type": "code",
   "execution_count": 6,
   "metadata": {},
   "outputs": [
    {
     "name": "stdout",
     "output_type": "stream",
     "text": [
      "17.16\n"
     ]
    }
   ],
   "source": [
    "mean = sum(advance_cm) / len(advance_cm)   # mean\n",
    "var  = sum(pow(x - mean,2) for x in advance_cm) / len(advance_cm)  # variance\n",
    "std  = round(pow(var, (1/2)),2)   # standard deviation\n",
    "\n",
    "print(std)"
   ]
  },
  {
   "cell_type": "code",
   "execution_count": null,
   "metadata": {},
   "outputs": [],
   "source": []
  }
 ],
 "metadata": {
  "kernelspec": {
   "display_name": "Python 3",
   "language": "python",
   "name": "python3"
  },
  "language_info": {
   "codemirror_mode": {
    "name": "ipython",
    "version": 3
   },
   "file_extension": ".py",
   "mimetype": "text/x-python",
   "name": "python",
   "nbconvert_exporter": "python",
   "pygments_lexer": "ipython3",
   "version": "3.9.5"
  }
 },
 "nbformat": 4,
 "nbformat_minor": 4
}
