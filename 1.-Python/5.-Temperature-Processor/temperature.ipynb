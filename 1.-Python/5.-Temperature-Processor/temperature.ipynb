{
 "cells": [
  {
   "cell_type": "markdown",
   "metadata": {},
   "source": [
    "<img src=\"https://bit.ly/2VnXWr2\" width=\"100\" align=\"left\">"
   ]
  },
  {
   "cell_type": "markdown",
   "metadata": {},
   "source": [
    "# Temperature Sensor\n",
    "\n",
    "There is a temperature sensor in the processor of your company's server. The company wants to analyze the data provided by the sensor to decide if they should change the cooling system for a better one. As changing the cooling system is expensive and you are an excellent data analyst, you can't make a decision without basis.\n",
    "\n",
    "## Tools\n",
    "You don't necessarily need to use all the tools. Maybe you opt to use some of them or completely different ones, they are given to help you shape the exercise. Programming exercises can be solved in many different ways.\n",
    "1. Data structures: **lists**\n",
    "2. Loops: **list comprehension**\n",
    "3. Functions: **min, max, print, len**\n",
    "4. Conditional statements: **if-elif-else**\n",
    "\n",
    "## Tasks\n",
    "The temperatures measured throughout the 24 hours of a day are:"
   ]
  },
  {
   "cell_type": "code",
   "execution_count": 1,
   "metadata": {},
   "outputs": [],
   "source": [
    "temperatures_C = [33, 66, 65, 0, 59, 60, 62, 64, 70, 76, 80, 81, 80, 83, 90, 79, 61, 53, 50, 49, 53, 48, 45, 39]"
   ]
  },
  {
   "cell_type": "markdown",
   "metadata": {},
   "source": [
    "The first element of the list is the temperature at 12am, the second element is the temperature at 1am, and so on. \n",
    "\n",
    "The company has decided that if one of the following events occurs, then the cooling system needs to be replaced for a new one to avoid damaging the processor.\n",
    "* More than 4 temperatures are greater than or equal to 70ºC.\n",
    "* Any temperature is above 80ºC.\n",
    "* The average temperature exceeds 65ºC.\n",
    "\n",
    "Follow the steps so that you can make the decision.\n",
    "\n",
    "#### 1. Find the minimum temperature of the day and store it in a variable."
   ]
  },
  {
   "cell_type": "code",
   "execution_count": 2,
   "metadata": {},
   "outputs": [
    {
     "name": "stdout",
     "output_type": "stream",
     "text": [
      "0\n"
     ]
    }
   ],
   "source": [
    "temperatures_C_min = min(temperatures_C)\n",
    "print(temperatures_C_min)"
   ]
  },
  {
   "cell_type": "markdown",
   "metadata": {},
   "source": [
    "#### 2. Find the maximum temperature of the day and store it in a variable."
   ]
  },
  {
   "cell_type": "code",
   "execution_count": 3,
   "metadata": {},
   "outputs": [
    {
     "name": "stdout",
     "output_type": "stream",
     "text": [
      "90\n"
     ]
    }
   ],
   "source": [
    "temperatures_C_max = max(temperatures_C)\n",
    "print(temperatures_C_max)"
   ]
  },
  {
   "cell_type": "markdown",
   "metadata": {},
   "source": [
    "#### 3. Create a list with the temperatures that are greater than or equal to 70ºC. Store it in a variable."
   ]
  },
  {
   "cell_type": "code",
   "execution_count": 4,
   "metadata": {},
   "outputs": [
    {
     "name": "stdout",
     "output_type": "stream",
     "text": [
      "[70, 76, 80, 81, 80, 83, 90, 79]\n"
     ]
    }
   ],
   "source": [
    "temperatures_70_C = []\n",
    "\n",
    "for i in temperatures_C:\n",
    "    if i >= 70:\n",
    "        temperatures_70_C.append(i)\n",
    "\n",
    "print(temperatures_70_C)    "
   ]
  },
  {
   "cell_type": "markdown",
   "metadata": {},
   "source": [
    "#### 4. Find the average temperature of the day and store it in a variable."
   ]
  },
  {
   "cell_type": "code",
   "execution_count": 5,
   "metadata": {},
   "outputs": [
    {
     "name": "stdout",
     "output_type": "stream",
     "text": [
      "60.25\n"
     ]
    }
   ],
   "source": [
    "temperatures_C_sum = 0\n",
    "\n",
    "for i in temperatures_C:\n",
    "    temperatures_C_sum = temperatures_C_sum + i\n",
    "\n",
    "temperatures_C_avg = temperatures_C_sum / len(temperatures_C)\n",
    "\n",
    "print(temperatures_C_avg)  "
   ]
  },
  {
   "cell_type": "markdown",
   "metadata": {},
   "source": [
    "#### 5. Imagine that there was a sensor failure at 3am and the data for that specific hour was not recorded. How would you estimate the missing value? Replace the current value of the list at 3am for an estimation. "
   ]
  },
  {
   "cell_type": "code",
   "execution_count": 6,
   "metadata": {},
   "outputs": [
    {
     "name": "stdout",
     "output_type": "stream",
     "text": [
      "[33, 66, 65, 62.0, 59, 60, 62, 64, 70, 76, 80, 81, 80, 83, 90, 79, 61, 53, 50, 49, 53, 48, 45, 39]\n"
     ]
    }
   ],
   "source": [
    "for i in temperatures_C:\n",
    "    if i == 0: \n",
    "        index = temperatures_C.index(i)\n",
    "        index_1 = temperatures_C.index(i) + 1\n",
    "        index_2 = temperatures_C.index(i) - 1\n",
    "        temperatures_C_3_am = (temperatures_C[index_1] + temperatures_C[index_2])/2\n",
    "        temperatures_C[index] = temperatures_C_3_am\n",
    "        \n",
    "print(temperatures_C)"
   ]
  },
  {
   "cell_type": "markdown",
   "metadata": {},
   "source": [
    "#### 6. Bonus: the maintenance staff is from the United States and does not understand the international metric system. Help them by converting the temperatures from Celsius to Fahrenheit.\n",
    "To know more about temperature conversion check this [link](https://en.wikipedia.org/wiki/Conversion_of_units_of_temperature).\n",
    "\n",
    "**Formula**: \n",
    "\n",
    "$F = 1.8 * C + 32$"
   ]
  },
  {
   "cell_type": "code",
   "execution_count": 7,
   "metadata": {},
   "outputs": [
    {
     "name": "stdout",
     "output_type": "stream",
     "text": [
      "[91.4, 150.8, 149.0, 143.6, 138.2, 140.0, 143.6, 147.2, 158.0, 168.8, 176.0, 177.8, 176.0, 181.4, 194.0, 174.2, 141.8, 127.4, 122.0, 120.2, 127.4, 118.4, 113.0, 102.2]\n"
     ]
    }
   ],
   "source": [
    "temperatures_F = []\n",
    "\n",
    "for i in temperatures_C:\n",
    "    x = round(i*1.8 + 32,2)\n",
    "    temperatures_F.append(x)\n",
    "    \n",
    "print(temperatures_F)"
   ]
  },
  {
   "cell_type": "markdown",
   "metadata": {},
   "source": [
    "#### 7. Make a decision!\n",
    "Now it's time to make a decision taking into account what you have seen until now. \n",
    "\n",
    "Remember that if one of the following events occurs, then the cooling system needs to be replaced for a new one to avoid damaging the processor.\n",
    "* More than 4 temperatures are greater than or equal to 70ºC.\n",
    "* Any temperature is above 80ºC.\n",
    "* The average temperature exceeds 65ºC.\n",
    "\n",
    "#### To make your decision, check if any of the three conditions above is met. You might need to use some of the variables you created in steps 1 to 6. Print a message to show if the cooling system needs to be changed or not."
   ]
  },
  {
   "cell_type": "code",
   "execution_count": 8,
   "metadata": {},
   "outputs": [
    {
     "name": "stdout",
     "output_type": "stream",
     "text": [
      "Cooling system needs to be changed, 4 temperatures are greater than or equal to 70ºC.\n"
     ]
    }
   ],
   "source": [
    "temperatures_C_70 = 0\n",
    "\n",
    "for i in temperatures_C:\n",
    "    if i >= 70:\n",
    "        temperatures_C_70 = temperatures_C_70 + 1\n",
    "        if temperatures_C_70 == 4:\n",
    "            print(\"Cooling system needs to be changed, 4 temperatures are greater than or equal to 70ºC.\")\n",
    "            break\n",
    "    elif i > 80:\n",
    "        print(\"Cooling system needs to be changed, temperature is above 80ºC.\")\n",
    "        break\n",
    "    elif temperatures_C_avg > 65:\n",
    "        print(\"Cooling system needs to be changed, the average temperature exceeds 65ºC.\")\n",
    "        break"
   ]
  },
  {
   "cell_type": "markdown",
   "metadata": {},
   "source": [
    "## Bonus\n",
    "\n",
    "The company has decided that the decision you made is not valid. They want you to analyze the data again but this time, the conditions that need to be met in order to change the cooling system are different.\n",
    "\n",
    "This time, if one of the following events occurs, then the cooling system needs to be replaced:\n",
    "* The temperature is greater than 70ºC during more than 4 consecutive hours.\n",
    "* Any temperature is above 80ºC.\n",
    "* The average temperature exceeds 65ºC.\n",
    "\n",
    "Follow the steps so that you can make the decision.\n",
    "\n",
    "#### 1. Create a list with the hours where the temperature is greater than 70ºC. Store it in a variable."
   ]
  },
  {
   "cell_type": "code",
   "execution_count": 9,
   "metadata": {},
   "outputs": [
    {
     "name": "stdout",
     "output_type": "stream",
     "text": [
      "[9, 10, 11, 12, 13, 14, 15]\n"
     ]
    }
   ],
   "source": [
    "temperatures_C_hours = list(range(0, 24))\n",
    "temperatures_C_hours_70 = []\n",
    "\n",
    "for i, j in zip(temperatures_C, temperatures_C_hours):\n",
    "    if i > 70:\n",
    "        temperatures_C_hours_70.append(j)\n",
    "        \n",
    "print(temperatures_C_hours_70)"
   ]
  },
  {
   "cell_type": "markdown",
   "metadata": {},
   "source": [
    "#### 2. Check if the list you created in step 1 has more than 4 consecutive hours. "
   ]
  },
  {
   "cell_type": "code",
   "execution_count": 10,
   "metadata": {},
   "outputs": [
    {
     "name": "stdout",
     "output_type": "stream",
     "text": [
      "There are 4 consecutive hours!\n"
     ]
    }
   ],
   "source": [
    "temperatures_C_hours_70_index = list(range(0, len(temperatures_C_hours_70) - 1))\n",
    "consecutive_hours = 0 \n",
    "\n",
    "temperatures_C_hours_70\n",
    "\n",
    "for (i, j) in zip(temperatures_C_hours_70, temperatures_C_hours_70_index):\n",
    "    x = temperatures_C_hours_70[j + 1] - i\n",
    "    if x == 1:\n",
    "        consecutive_hours = consecutive_hours + 1\n",
    "    if  consecutive_hours == 4:\n",
    "        print(\"There are 4 consecutive hours!\")\n",
    "        break"
   ]
  },
  {
   "cell_type": "markdown",
   "metadata": {},
   "source": [
    "#### 4. Find the average value of the temperature lists (ºC and ºF). What is the relation between both average values?"
   ]
  },
  {
   "cell_type": "code",
   "execution_count": 11,
   "metadata": {},
   "outputs": [
    {
     "name": "stdout",
     "output_type": "stream",
     "text": [
      "60.25\n",
      "145.1\n"
     ]
    }
   ],
   "source": [
    "print(temperatures_C_avg)\n",
    "\n",
    "temperatures_F_sum = 0\n",
    "\n",
    "for i in temperatures_F:\n",
    "    temperatures_F_sum = temperatures_F_sum + i\n",
    "    \n",
    "temperatures_F_avg = temperatures_F_sum/len(temperatures_F)\n",
    "\n",
    "print(temperatures_F_avg)"
   ]
  },
  {
   "cell_type": "markdown",
   "metadata": {},
   "source": [
    "#### 5. Find the standard deviation of the temperature lists (ºC and ºF). What is the relation between both standard deviations?"
   ]
  },
  {
   "cell_type": "code",
   "execution_count": 12,
   "metadata": {},
   "outputs": [
    {
     "name": "stdout",
     "output_type": "stream",
     "text": [
      "26.34 is temperature in Fahrenheit standard deviation.\n"
     ]
    }
   ],
   "source": [
    "temperatures_F_var = sum(pow(x - temperatures_F_avg,2) for x in temperatures_F) / len(temperatures_F)\n",
    "\n",
    "temperatures_F_std = round(pow(temperatures_F_var, (1/2)),2)\n",
    "\n",
    "print(temperatures_F_std, \"is temperature in Fahrenheit standard deviation.\")"
   ]
  },
  {
   "cell_type": "code",
   "execution_count": 13,
   "metadata": {},
   "outputs": [
    {
     "name": "stdout",
     "output_type": "stream",
     "text": [
      "14.86 is temperature in Celsius standard deviation.\n"
     ]
    }
   ],
   "source": [
    "temperatures_C_var = sum(pow(x - temperatures_C_avg,2) for x in temperatures_C) / len(temperatures_C)\n",
    "\n",
    "temperatures_C_std = round(pow(temperatures_C_var, (1/2)),2)\n",
    "\n",
    "print(temperatures_C_std, \"is temperature in Celsius standard deviation.\")"
   ]
  },
  {
   "cell_type": "code",
   "execution_count": null,
   "metadata": {},
   "outputs": [],
   "source": []
  }
 ],
 "metadata": {
  "kernelspec": {
   "display_name": "Python 3",
   "language": "python",
   "name": "python3"
  },
  "language_info": {
   "codemirror_mode": {
    "name": "ipython",
    "version": 3
   },
   "file_extension": ".py",
   "mimetype": "text/x-python",
   "name": "python",
   "nbconvert_exporter": "python",
   "pygments_lexer": "ipython3",
   "version": "3.8.5"
  }
 },
 "nbformat": 4,
 "nbformat_minor": 4
}
